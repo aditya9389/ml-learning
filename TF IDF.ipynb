{
 "cells": [
  {
   "cell_type": "code",
   "execution_count": 1,
   "id": "1500dc2c",
   "metadata": {},
   "outputs": [],
   "source": [
    "import nltk\n",
    "\n",
    "               \n",
    "# Cleaning the texts\n",
    "import re\n",
    "from nltk.corpus import stopwords\n",
    "from nltk.stem.porter import PorterStemmer\n",
    "from nltk.stem import WordNetLemmatizer\n",
    "\n"
   ]
  },
  {
   "cell_type": "code",
   "execution_count": 2,
   "id": "4b6bb490",
   "metadata": {},
   "outputs": [],
   "source": [
    "paragraph =  \"\"\"Coronavirus disease 2019 (COVID-19) is a contagious disease caused by the coronavirus SARS-CoV-2.\n",
    "The first known case was identified in Wuhan, China, in December 2019.\n",
    "[7] The disease quickly spread worldwide, resulting in the ongoing COVID-19 pandemic.\n",
    "The symptoms of COVID‑19 are variable but often include fever,[8] fatigue, cough,\n",
    "breathing difficulties, loss of smell, and loss of taste.[9][10][11] \n",
    "Symptoms may begin one to fourteen days after exposure to the virus. \n",
    "At least a third of people who are infected do not develop noticeable symptoms.\n",
    "[12][13] Of those who develop symptoms noticeable enough to be classified as patients, \n",
    "most (81%) develop mild to moderate symptoms (up to mild pneumonia), \n",
    "while 14% develop severe symptoms (dyspnea, hypoxia, or more than 50% lung involvement on imaging),\n",
    " and 5% develop critical symptoms (respiratory failure, shock, or multiorgan dysfunction).\n",
    " [14] Older people are at a higher risk of developing severe symptoms. \n",
    " Some complications result in death. Some people continue to experience a range of effects \n",
    " (long COVID) for months or years after infection, and damage to organs has been observed.\n",
    " [15] Multi-year studies are underway to further investigate the long-term effects of the disease.\n",
    "[16]\n",
    "COVID‑19 transmission occurs when infectious particles are breathed in or come into contact \n",
    "with the eyes, nose, or mouth. The risk is highest when people are in close proximity, \n",
    "but small airborne particles containing the virus can remain suspended in the air and travel \n",
    "over longer distances, particularly indoors. Transmission can also occur when people touch \n",
    "their eyes, nose or mouth after touching surfaces or objects that have been contaminated by \n",
    "the virus. People remain contagious for up to 20 days and can spread the virus even if they \n",
    "do not develop symptoms.[17]\n",
    "Testing methods for COVID-19 to detect the virus's nucleic acid include real-time reverse \n",
    "transcription polymerase chain reaction (RT‑PCR),[18][19] transcription-mediated amplification,\n",
    "[18][19][20] and reverse transcription loop-mediated isothermal amplification (RT‑LAMP)[18][19] \n",
    "from a nasopharyngeal swab.[21]\n",
    "Several COVID-19 vaccines have been approved and distributed in various countries, \n",
    "many of which have initiated mass vaccination campaigns. Other preventive measures \n",
    "include physical or social distancing, quarantining, ventilation of indoor spaces, \n",
    "use of face masks or coverings in public, covering coughs and sneezes, hand washing, \n",
    "and keeping unwashed hands away from the face. While drugs have been developed to inhibit \n",
    "the virus, the primary treatment is still symptomatic, managing the disease through supportive \n",
    "care, isolation, and experimental measures.\"\"\"\n",
    "\n",
    "ps = PorterStemmer()\n",
    "wordnet=WordNetLemmatizer()\n",
    "sentences = nltk.sent_tokenize(paragraph)\n",
    "corpus = []\n"
   ]
  },
  {
   "cell_type": "code",
   "execution_count": 3,
   "id": "e6b4e773",
   "metadata": {},
   "outputs": [],
   "source": [
    "for i in range(len(sentences)):\n",
    "    review = re.sub('[^a-zA-Z]', ' ', sentences[i])\n",
    "    review = review.lower()\n",
    "    review = review.split()\n",
    "    review = [wordnet.lemmatize(word) for word in review if not word in set(stopwords.words('english'))]\n",
    "    review = ' '.join(review)\n",
    "    corpus.append(review)\n",
    "    \n"
   ]
  },
  {
   "cell_type": "code",
   "execution_count": 4,
   "id": "de98a756",
   "metadata": {},
   "outputs": [],
   "source": [
    "# Creating the TF-IDF model\n",
    "from sklearn.feature_extraction.text import TfidfVectorizer\n",
    "cv = TfidfVectorizer()\n",
    "X = cv.fit_transform(corpus).toarray()"
   ]
  },
  {
   "cell_type": "code",
   "execution_count": 5,
   "id": "57c1db48",
   "metadata": {},
   "outputs": [
    {
     "data": {
      "text/plain": [
       "array([[0.        , 0.        , 0.        , ..., 0.        , 0.        ,\n",
       "        0.        ],\n",
       "       [0.        , 0.        , 0.        , ..., 0.25883507, 0.30512561,\n",
       "        0.        ],\n",
       "       [0.        , 0.28867513, 0.        , ..., 0.        , 0.        ,\n",
       "        0.        ],\n",
       "       ...,\n",
       "       [0.        , 0.        , 0.        , ..., 0.        , 0.        ,\n",
       "        0.        ],\n",
       "       [0.        , 0.        , 0.        , ..., 0.        , 0.        ,\n",
       "        0.        ],\n",
       "       [0.        , 0.        , 0.        , ..., 0.        , 0.        ,\n",
       "        0.        ]])"
      ]
     },
     "execution_count": 5,
     "metadata": {},
     "output_type": "execute_result"
    }
   ],
   "source": [
    "X"
   ]
  },
  {
   "cell_type": "code",
   "execution_count": null,
   "id": "92062a6e",
   "metadata": {},
   "outputs": [],
   "source": []
  }
 ],
 "metadata": {
  "kernelspec": {
   "display_name": "Python 3",
   "language": "python",
   "name": "python3"
  },
  "language_info": {
   "codemirror_mode": {
    "name": "ipython",
    "version": 3
   },
   "file_extension": ".py",
   "mimetype": "text/x-python",
   "name": "python",
   "nbconvert_exporter": "python",
   "pygments_lexer": "ipython3",
   "version": "3.8.8"
  }
 },
 "nbformat": 4,
 "nbformat_minor": 5
}
